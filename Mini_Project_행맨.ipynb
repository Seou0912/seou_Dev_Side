{
  "nbformat": 4,
  "nbformat_minor": 0,
  "metadata": {
    "colab": {
      "provenance": [],
      "include_colab_link": true
    },
    "kernelspec": {
      "name": "python3",
      "display_name": "Python 3"
    },
    "language_info": {
      "name": "python"
    }
  },
  "cells": [
    {
      "cell_type": "markdown",
      "metadata": {
        "id": "view-in-github",
        "colab_type": "text"
      },
      "source": [
        "<a href=\"https://colab.research.google.com/github/Seou0912/seou_Dev_Side/blob/main/Mini_Project_%ED%96%89%EB%A7%A8.ipynb\" target=\"_parent\"><img src=\"https://colab.research.google.com/assets/colab-badge.svg\" alt=\"Open In Colab\"/></a>"
      ]
    },
    {
      "cell_type": "markdown",
      "source": [
        "\n",
        "## Mini project [행맨 게임 제작]\n",
        "\n",
        "안녕하세요.\n",
        "수강생 여러분~! Chapter17 ~ 20 수업은 잘 들으셨나요?\n",
        "\n",
        "여러분의 모든 역량을 총 동원해 문제를 풀어주셨합니다.\n",
        "\n",
        "\n",
        "\n",
        "#### 과제 설명\n",
        "\n",
        "이번 개발 주제는 '행맨' 게임이구요.\n",
        "\n",
        "행맨 게임은 아주 유명한 단어 퀴즈 프로그램이예요\n",
        "\n",
        "어떤 단어가 주어지면 그 단어의 길이만큼 빈 칸(밑줄) 이 주어지고\n",
        "플레이어는 알파벳을 하나씩 얘기하면서 단어를 추측해요!\n",
        "\n",
        "10번만에 맞히지 못하면 게임이 끝납니다. 🥲\n",
        "\n"
      ],
      "metadata": {
        "id": "MoWlK0jinrpN"
      }
    },
    {
      "cell_type": "markdown",
      "source": [
        "#### 예시를 들어볼께요!!\n",
        "\n",
        "만약 E 가 단어에 포함돼있다면, 해당하는 위치에 E 를 표시해줍니다\n",
        "\n",
        "_ _ _ _ E E\n",
        "이렇게 되겠네요.\n",
        "\n",
        "이번에는 A를 해볼께요\n",
        "A 는 포함되지 않으므로 기회가 줄어들고 지금까지 맞힌 내용 그대로 출력합니다.\n",
        "\n",
        "_ _ _ _ E E\n",
        "변화가 없지요.\n",
        "\n",
        "이번에는 C 를 해봅시다.\n",
        "\n",
        "그럼\n",
        "C _ _ _ E E\n",
        "\n",
        "다음에는 F 를\n",
        "C _ F F E E\n",
        "\n",
        "마지막으로 O 를 해보면\n",
        "C O F F E E 로 게임은 성공으로 끝나게 됩니다."
      ],
      "metadata": {
        "id": "TQ0_AReItZ4z"
      }
    },
    {
      "cell_type": "markdown",
      "source": [
        "##본격적인 행맨 게임 규칙 설명\n",
        "\n",
        "- words 리스트에 추가된 단어들을 사용해주세요\n",
        "  - words = [\"apple\", \"banana\", \"orange\", \"grape\", \"lemon\"]\n",
        "\n",
        "- 단어의 길이에 맞게 밑줄을 출력해주세요  \n",
        "  (예)banana의 경우 _ _ _ _ _ _\n",
        "\n",
        "- 사용자부터 1글자씩 입력을 받되,\n",
        "   - 단어에 입력값이 포함되면 \"단어를 맞추셨군요. 더 힘내봐요\"라고 출력해주세요\"\n",
        "   - 단어에 입력값이 포함되어 있지 않다면 \"틀렸습니다. 남은 시도 횟수 \"란 메시지와 함꼐 남은 횟수를 출력해주세요\n",
        "\n",
        "- 매번 입력을 받을 때마다 현재까지 맞힌 글자들 표시(맞히면 글자는 밑줄 출력)\n",
        "    - 예) a 입력 시 : a _ _ _ _\n",
        "          p 입력 시 : a p p _ _\n",
        "          c 입력 시 : a p p _ _\n",
        "\n",
        "- 모든 단어를 맞췄을 경우 \"축하합니다! 단어를 맞추셨습니다\"와 시도 횟수를 출력해주세요\n",
        "\n",
        "\n",
        "행맨은 정말 유명 게임으로 찾아볼 수 있는 자료들이 많습니다.   \n",
        "문제가 어려우신 경우 구글링 통해 문제를 해결해보세요.  "
      ],
      "metadata": {
        "id": "eAI1BLDfuoNp"
      }
    },
    {
      "cell_type": "code",
      "source": [
        "\n",
        "import random   # random 모듈을 임포트하여 무작위 단어를 선택할 수 있습니다.\n",
        "\n",
        "\n",
        "#hangman(words, max_attempts) 함수는 행맨 게임을 실행하는 함수입니다.\n",
        "\n",
        "def hangman(words, max_attempts):\n",
        "\n",
        "    chosen_word = random.choice(words)\n",
        "\n",
        "    guessed_word = [\"_\"] * len(chosen_word)\n",
        "\n",
        "    attempts = 0    #attempts 변수는 플레이어가 시도한 횟수를 저장합니다.\n",
        "\n",
        "    while attempts < max_attempts:\n",
        "\n",
        "        print(\"현재 상태:\", \" \".join(guessed_word))\n",
        "\n",
        "        guess = input(\"알파벳 하나를 입력하세요: \").lower()\n",
        "\n",
        "\n",
        "        if len(guess) != 1 or not guess.isalpha():\n",
        "\n",
        "            print(\"잘못된 입력입니다. 알파벳 하나를 입력해주세요.\")\n",
        "\n",
        "            continue\n",
        "\n",
        "        if guess in chosen_word:\n",
        "\n",
        "            for i, letter in enumerate(chosen_word):\n",
        "\n",
        "                if letter == guess:\n",
        "\n",
        "                    guessed_word[i] = guess\n",
        "\n",
        "        else:\n",
        "\n",
        "            attempts += 1\n",
        "\n",
        "        if \"_\" not in guessed_word:\n",
        "\n",
        "            print(\"축하합니다! 정답은 '{}'입니다.\".format(chosen_word))\n",
        "\n",
        "            break\n",
        "\n",
        "    else:\n",
        "\n",
        "        print(\"기회를 모두 소진했습니다. 정답은 '{}'였습니다.\".format(chosen_word))\n",
        "\n",
        "\n",
        "words = [\"apple\", \"banana\", \"orange\", \"grape\", \"lemon\"]\n",
        "\n",
        "max_attempts = 6\n",
        "\n",
        "hangman(words, max_attempts)"
      ],
      "metadata": {
        "id": "SlxmsiBtnqdd",
        "colab": {
          "base_uri": "https://localhost:8080/"
        },
        "outputId": "a1247648-c92d-448c-d65f-9b28ce69a56f"
      },
      "execution_count": 7,
      "outputs": [
        {
          "output_type": "stream",
          "name": "stdout",
          "text": [
            "현재 상태: _ _ _ _ _\n",
            "알파벳 하나를 입력하세요: a\n",
            "현재 상태: _ _ _ _ _\n",
            "알파벳 하나를 입력하세요: l\n",
            "현재 상태: l _ _ _ _\n",
            "알파벳 하나를 입력하세요: en\n",
            "잘못된 입력입니다. 알파벳 하나를 입력해주세요.\n",
            "현재 상태: l _ _ _ _\n",
            "알파벳 하나를 입력하세요: m\n",
            "현재 상태: l _ m _ _\n",
            "알파벳 하나를 입력하세요: o\n",
            "현재 상태: l _ m o _\n",
            "알파벳 하나를 입력하세요: n\n",
            "현재 상태: l _ m o n\n",
            "알파벳 하나를 입력하세요: e\n",
            "축하합니다! 정답은 'lemon'입니다.\n"
          ]
        }
      ]
    }
  ]
}